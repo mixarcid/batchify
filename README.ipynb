{
 "cells": [
  {
   "cell_type": "markdown",
   "id": "ae1fc55e-5990-4ec4-81ef-b3dcc09fff4f",
   "metadata": {
    "tags": []
   },
   "source": [
    "# batchify: structured data in pytorch\n",
    "\n",
    "PyTorch can already batchify tensors (and tuples of tensors), but what about arbitrary classes? If your neural network is dealing with complex datatypes, structuring your data in classes is the solution. With batchify, you can seemlessly return classes in a pytorch dataset.\n",
    "\n",
    "As an example, let's say you want your neural network do something with people. People, as we all know, are faces and names"
   ]
  },
  {
   "cell_type": "code",
   "execution_count": 5,
   "id": "f5705d16-9e0e-488d-a830-6a2960ee8885",
   "metadata": {},
   "outputs": [],
   "source": [
    "import torch\n",
    "from batchify import Batch, Batchable\n",
    "\n",
    "MAX_NAME_LEN = 128\n",
    "IMG_SIZE = 256\n",
    "class Person(Batchable):\n",
    "    \n",
    "    face: torch.Tensor\n",
    "    name: torch.Tensor\n",
    "    \n",
    "    def __init__(self): # not a very interesting person\n",
    "        self.face = torch.zeros((3, IMG_SIZE, IMG_SIZE))\n",
    "        self.name = torch.zeros((MAX_NAME_LEN,))\n",
    "    "
   ]
  },
  {
   "cell_type": "markdown",
   "id": "55254a63-d534-4376-8c09-39971a2d0917",
   "metadata": {},
   "source": [
    "Now here's the fun part: we can make a batch of people. This automatically batchifies both the face and the name"
   ]
  },
  {
   "cell_type": "code",
   "execution_count": 14,
   "id": "663d05b5-0fb4-404a-9a7b-414ee17b3310",
   "metadata": {},
   "outputs": [
    {
     "name": "stdout",
     "output_type": "stream",
     "text": [
      "2\n",
      "torch.Size([128])\n",
      "torch.Size([2, 128])\n",
      "torch.Size([128])\n"
     ]
    }
   ],
   "source": [
    "dave = Person()\n",
    "rhonda = Person()\n",
    "batch = Batch([dave, rhonda])\n",
    "print(len(batch))\n",
    "print(dave.name.shape)\n",
    "print(batch.name.shape) # notice the extra batch dimension\n",
    "print(batch[0].name.shape) # un-batchification"
   ]
  },
  {
   "cell_type": "markdown",
   "id": "da6707cf-cfc7-4a27-ae54-cddd361bcef4",
   "metadata": {},
   "source": [
    "But what about a custom person dataset? Pretty easy with the batchify dataloader"
   ]
  },
  {
   "cell_type": "code",
   "execution_count": 15,
   "id": "1f0ca79e-bafc-441d-a7f5-2f0e9a2531cc",
   "metadata": {},
   "outputs": [
    {
     "name": "stdout",
     "output_type": "stream",
     "text": [
      "torch.Size([8, 3, 256, 256])\n",
      "torch.Size([8, 3, 256, 256])\n"
     ]
    }
   ],
   "source": [
    "from batchify import DataLoader\n",
    "\n",
    "class PersonDataset(torch.utils.data.Dataset):\n",
    "    \n",
    "    def __len__(self):\n",
    "        return 16\n",
    "    \n",
    "    def __getitem__(self, index):\n",
    "        return Person()\n",
    "    \n",
    "batch_size = 8\n",
    "dataset = PersonDataset()\n",
    "loader = DataLoader(dataset, batch_size=batch_size)\n",
    "for batch in loader:\n",
    "    print(batch.face.shape)"
   ]
  },
  {
   "cell_type": "markdown",
   "id": "aeef3c02-9c71-4f73-b776-7d91a8b73f53",
   "metadata": {},
   "source": [
    "This is all great if you want to input a Person into your network. But what if you want to _output_ a person?\n",
    "\n",
    "(**warning**: this functionality only works if you have correct type annotations on your Batchable classes)"
   ]
  },
  {
   "cell_type": "code",
   "execution_count": 17,
   "id": "ea5aafe2-3534-44b7-865c-aabb28f569c9",
   "metadata": {},
   "outputs": [
    {
     "name": "stdout",
     "output_type": "stream",
     "text": [
      "8\n",
      "torch.Size([128])\n"
     ]
    }
   ],
   "source": [
    "out_batch = Batch(Person,\n",
    "                  face=torch.zeros((batch_size, 3, IMG_SIZE, IMG_SIZE)),\n",
    "                  name=torch.zeros((batch_size, MAX_NAME_LEN)))\n",
    "print(len(out_batch))\n",
    "print(out_batch[0].name.shape)"
   ]
  }
 ],
 "metadata": {
  "kernelspec": {
   "display_name": "Python 3 (ipykernel)",
   "language": "python",
   "name": "python3"
  },
  "language_info": {
   "codemirror_mode": {
    "name": "ipython",
    "version": 3
   },
   "file_extension": ".py",
   "mimetype": "text/x-python",
   "name": "python",
   "nbconvert_exporter": "python",
   "pygments_lexer": "ipython3",
   "version": "3.8.5"
  }
 },
 "nbformat": 4,
 "nbformat_minor": 5
}
